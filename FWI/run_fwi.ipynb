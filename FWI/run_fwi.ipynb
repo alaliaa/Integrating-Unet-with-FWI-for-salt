{
 "cells": [
  {
   "cell_type": "code",
   "execution_count": null,
   "source": [
    "import os \n",
    "\n",
    "os.environ['CUDA_VISIBLE_DEVICES'] = '0'\n",
    "\n",
    "import numpy as np\n",
    "import fwi\n",
    "# import fwiLBFGS as fwi\n",
    "import torch\n",
    "import time \n",
    "import matplotlib.pylab  as plt\n",
    "from util import * \n",
    "import deepwave\n",
    "from scipy import signal\n",
    "from skimage.transform import resize, rescale \n",
    "from  scipy.ndimage import gaussian_filter\n",
    "\n",
    "\n",
    "# =================================================================== #"
   ],
   "outputs": [],
   "metadata": {}
  },
  {
   "cell_type": "code",
   "execution_count": null,
   "source": [
    "# ========================== Main  ============================== #\n",
    "\n",
    "device = torch.device('cuda:0')\n",
    "\n",
    "# mtrue = mtrue.T\n",
    "# ============================ setting parameters =============================#\n",
    "\n",
    "# Define the model and achuisition parameters\n",
    "par = {     'nx':1685,   'dx':0.02, 'ox':0,\n",
    "            'nz':201,   'dz':0.02, 'oz':0,\n",
    "#             'ns':400,   'ds':0.0825,   'osou':0,  'sz':0.06,\n",
    "            'ns':360,   'ds':0.055,   'osou':7,  'sz':0.06,\n",
    "            # 'ns':200,   'ds':0.165,   'osou':0,  'sz':0.06,\n",
    "            # 'ns':1,   'ds':1,   'osou':16.85,  'sz':0.06,\n",
    "            'nr':842,'dr':0.04,  'orec':0,    'rz':0.06,\n",
    "            'nt':4000,  'dt':0.002,  'ot':0,\n",
    "#             'nt':1250,  'dt':0.004,  'ot':0,\n",
    "#             'nt':625,  'dt':0.008,  'ot':0,\n",
    "            'freq':10,\n",
    "            'FWI_itr': 500,\n",
    "            'num_dims':2\n",
    "      }\n",
    "\n",
    "\n",
    "par['mxoffset']= 6 \n",
    "# par['mxoffset']= 'full'\n",
    "# par['nr'] = int((2 * par['mxoffset'])//(par['dr'])) + 1  \n",
    "# par['orec'] = par['osou'] - par['mxoffset']\n",
    "\n",
    "\n",
    "\n",
    "    \n",
    "fs = 1/par['dt'] # sampling frequency\n",
    "\n",
    "# par ['batch_size'] =4\n",
    "par ['batch_size'] =1\n",
    "par ['num_batches'] = par['ns']//par ['batch_size'] \n",
    " \n",
    "# Don't change the below two lines \n",
    "num_sources_per_shot=1\n",
    "\n",
    "# Mapping the par dictionary to variables \n",
    "for k in par:\n",
    "    locals()[k] = par[k]"
   ],
   "outputs": [],
   "metadata": {}
  },
  {
   "cell_type": "code",
   "execution_count": null,
   "source": [
    "# ============================ I/O =============================#\n",
    "\n",
    "# True model\n",
    "path = './'\n",
    "velocity_path = './velocity/'\n",
    "data_path = './data/'\n",
    "# i/o files\n",
    "vel_true =velocity_path+'bp_full_fixed.npy' # true model \n",
    "data_file = data_path +f'data{ns}.npy'\n",
    "wavel_file = data_path+'wavel.npy'\n",
    "# Output parameter \n",
    "\n",
    "fwi_pass= 1\n",
    "minF = 3\n",
    "maxF = 7\n",
    "TV_FLAG = True \n",
    "# TV_ALPHA = 1\n",
    "TV_ALPHA = 0.1\n",
    "smth1 = 1e-7\n",
    "smth2 = 1e-7\n",
    "opt='Adam'\n",
    "# fwi_pass= 1\n",
    "# minF = 3\n",
    "# maxF = 7\n",
    "# TV_FLAG = True \n",
    "# TV_ALPHA = 0.01\n",
    "# smth1 = 2\n",
    "# smth2 = 5\n",
    "\n",
    "# inv_file=f\"BPfull_1stinv_TV{TV_ALPHA}_offs{par['mxoffset']}_DomFreq{par['freq']}_MinFreq{minF}_MaxFre{maxF}_fwi{fwi_pass}_smth{smth1}-{smth2}\"\n",
    "\n",
    "\n",
    "\n",
    "inv_file=f\"BPfull_1stinv_TV{TV_ALPHA}_offs{par['mxoffset']}_DomFreq{par['freq']}_MinFreq{minF}_MaxFre{maxF}_fwi{fwi_pass}_smth{smth1}-{smth2}_nt{par['nt']}-ns{par['ns']}-opt{opt}-1Dtemp\"\n",
    "output_file = velocity_path+inv_file\n",
    "    \n",
    "    \n",
    "mtrue = np.load(vel_true)\n",
    "# mtrue = mtrue.T\n",
    "\n",
    "\n"
   ],
   "outputs": [],
   "metadata": {}
  },
  {
   "cell_type": "code",
   "execution_count": null,
   "source": [
    "# ============================ Forward modelling =============================#\n",
    "# convert to tensor\n",
    "\n",
    "mtrue = torch.tensor(mtrue,dtype=torch.float32)\n",
    "\n",
    "# Convert to 1D \n",
    "mtrue = np.repeat(mtrue[:,150].reshape(nz,-1),axis=1,repeats=nx) \n",
    "# mtrue[mtrue>=4.] = 3\n",
    "\n",
    "# initiate the fwi class\n",
    "inversion = fwi.fwi(par,2)\n",
    "\n",
    "# xr_corr = inversion.r_cor[:,:,1]\n",
    "# xr_corr [xr_corr < 0 ] = 0\n",
    "# xr_corr [xr_corr > (nx-1)*dx ] = (nx-1)*dx  # last point in the model \n",
    "# inversion.r_cor[:,:,1] =  xr_corr\n",
    "\n",
    "\n"
   ],
   "outputs": [],
   "metadata": {}
  },
  {
   "cell_type": "code",
   "execution_count": null,
   "source": [],
   "outputs": [],
   "metadata": {}
  },
  {
   "cell_type": "code",
   "execution_count": null,
   "source": [
    "wavel = inversion.Ricker(freq)  \n",
    "data = torch.zeros((nt,ns,nr),dtype=torch.float32)\n",
    "data = inversion.forward_modelling(mtrue,wavel.repeat(1,ns,num_sources_per_shot),device).cpu()\n",
    "\n",
    "\n",
    "\n",
    "torch.cuda.empty_cache()\n"
   ],
   "outputs": [],
   "metadata": {}
  },
  {
   "cell_type": "code",
   "execution_count": null,
   "source": [
    "# import pickle\n",
    "# np.save(data_file,data)\n",
    "# np.save(wavel_file,wavel)\n",
    "# with open(f'{data_file}.pickle', 'wb') as f:\n",
    "#     pickle.dump(par, f, protocol=pickle.HIGHEST_PROTOCOL)"
   ],
   "outputs": [],
   "metadata": {}
  },
  {
   "cell_type": "code",
   "execution_count": null,
   "source": [
    "\n",
    "## Load the saved data \n",
    "# data = np.load(data_file)\n",
    "# wavel = np.load(wavel_file)\n"
   ],
   "outputs": [],
   "metadata": {}
  },
  {
   "cell_type": "code",
   "execution_count": null,
   "source": [],
   "outputs": [],
   "metadata": {}
  },
  {
   "cell_type": "code",
   "execution_count": null,
   "source": [],
   "outputs": [],
   "metadata": {}
  },
  {
   "cell_type": "code",
   "execution_count": null,
   "source": [
    "shot = 0\n",
    "plt.figure(figsize=(5,10))\n",
    "vmin, vmax = np.percentile(data[:,shot], [2,98])\n",
    "plt.imshow(data[:,shot,:],cmap='seismic',vmin=vmin,vmax=-vmin,\n",
    "           extent=[inversion.r_cor[shot,0,1].numpy(),inversion.r_cor[shot,nr-1,1].numpy(),par['nt']*par['dt'],par['ot']])\n",
    "plt.axis('tight')\n",
    "plt.xlabel('Position (Km)',weight='heavy')\n",
    "plt.ylabel('Time (s)',weight='heavy')\n",
    "plt.title(f'shot at {inversion.s_cor[shot,0,1]}')\n",
    "plt.gca().axes.get_xaxis().set_label_position('top')\n",
    "plt.gca().axes.get_xaxis().tick_top()\n",
    "\n",
    "\n",
    "plt.figure(figsize=(8,2))\n",
    "plt.plot(np.arange(par['ot'],par['nt'])*par['dt'],wavel[:,0,0],linewidth=2,color='r')\n"
   ],
   "outputs": [],
   "metadata": {}
  },
  {
   "cell_type": "code",
   "execution_count": null,
   "source": [
    "\n",
    "\n",
    "# filter frequencies \n",
    "wavel_f = freq_filter(freq=[3,7],wavelet=wavel,btype='bp',fs=fs)\n",
    "data_f = freq_filter(freq=[3,7],wavelet=data,btype='bp',fs=fs)\n",
    "\n"
   ],
   "outputs": [],
   "metadata": {}
  },
  {
   "cell_type": "code",
   "execution_count": null,
   "source": [
    "# ======================= Plotting Frequency Spectrum ============================= #\n",
    "\n",
    "# Plot data \n",
    "plt.figure(figsize=(5,10))\n",
    "vmin, vmax = np.percentile(data[:,0], [2,98])\n",
    "plt.imshow(data[:,int(ns//2),:],cmap='seismic',vmin=vmin,vmax=-vmin,extent=[0,par['dr']*par['nr'],par['nt']*par['dt'],par['ot']])\n",
    "plt.axis('tight')\n",
    "plt.xlabel('Offset (Km)',weight='heavy')\n",
    "plt.ylabel('Time (s)',weight='heavy')\n",
    "plt.gca().axes.get_xaxis().set_label_position('top')\n",
    "plt.gca().axes.get_xaxis().tick_top()\n",
    "plt.savefig('./Fig/shot',bbox_inches='tight')\n",
    "\n",
    "\n",
    "plt.figure(figsize=(5,10))\n",
    "vmin, vmax = np.percentile(data[:,0], [2,98])\n",
    "plt.imshow(data_f[:,int(ns//2),:],cmap='seismic',vmin=vmin,vmax=-vmin,extent=[0,par['dr']*par['nr'],par['nt']*par['dt'],par['ot']])\n",
    "plt.axis('tight')\n",
    "plt.xlabel('Offset (Km)',weight='heavy')\n",
    "plt.ylabel('Time (s)',weight='heavy')\n",
    "plt.gca().axes.get_xaxis().set_label_position('top')\n",
    "plt.gca().axes.get_xaxis().tick_top()\n",
    "plt.savefig('./Fig/shot_filter',bbox_inches='tight')\n",
    "# Plotting shot spectrum\n",
    "plt.figure()\n",
    "YY = []\n",
    "FF = []\n",
    "for i in range(data.shape[2]):\n",
    "    Y = plt.magnitude_spectrum(data_f[:,0,i].numpy().flatten(),Fs=fs,color='r')\n",
    "    plt.xlim([0,30])\n",
    "    YY.append(Y[0])\n",
    "    FF.append(Y[1])\n",
    "    # plt.fill_between(Y[1],Y[0],color='r')\n",
    "YYY = np.array(YY)\n",
    "FFF = np.array(FF)\n",
    "\n",
    "plt.figure(figsize=(10,3))\n",
    "plt.plot(FFF[0,:],np.average(YYY,axis=0),color='r')\n",
    "plt.xlim([0,30])\n",
    "plt.xlabel('Frequency (Hz)',weight='heavy')\n",
    "plt.ylabel('Amplitude',weight='heavy')\n",
    "plt.fill_between(FFF[0,:],np.average(YYY,axis=0),color='r')\n",
    "plt.grid(which='both')\n",
    "plt.savefig('./Fig/shot_spectrum',bbox_inches='tight')\n",
    "\n",
    "\n",
    "\n",
    "\n",
    "# Plotting wavelet and its spectrum \n",
    "wav = wavel_f.numpy()[:,-1]\n",
    "plt.figure(figsize=(10,3))\n",
    "plt.plot(np.arange(wav.shape[0])*dt,wav,color='k')\n",
    "plt.xlabel('Time (s)',weight='heavy')\n",
    "plt.ylabel('Amplitude',weight='heavy')\n",
    "# plt.gca().axes.get_yaxis().set_visible(False)\n",
    "plt.savefig('./Fig//wavelet',bbox_inches='tight')\n",
    "\n",
    "plt.figure()\n",
    "Y = plt.magnitude_spectrum(wav.flatten(),Fs=fs)\n",
    "YY = Y[0]\n",
    "FF = Y[1]\n",
    "\n",
    "plt.figure(figsize=(10,3))\n",
    "plt.plot(FF,YY,color='r')\n",
    "plt.xlim([0,30])\n",
    "plt.xlabel('Frequency (Hz)',weight='heavy')\n",
    "plt.ylabel('Amplitude',weight='heavy')\n",
    "plt.fill_between(FF,YY,color='r')\n",
    "plt.grid(which='both')\n",
    "plt.savefig('./Fig/wavelet_frequency',bbox_inches='tight')"
   ],
   "outputs": [],
   "metadata": {}
  },
  {
   "cell_type": "markdown",
   "source": [
    "## Resample\n"
   ],
   "metadata": {}
  },
  {
   "cell_type": "code",
   "execution_count": null,
   "source": [
    "# wavel_res = wavel_f[::4,]\n",
    "# data_res = data_f [::4,]\n",
    "# assert data_res.shape[0] ==wavel_res.shape[0], \"shape mismatch in the nt for data and wavelet\"\n",
    "\n",
    "# # par['nt-old'] = par['nt']\n",
    "# par['nt-old'] = 2500\n",
    "# par['nt'] = data_res.shape[0]\n",
    "# par['dt'] = (nt*dt)/par['nt']\n",
    "\n",
    "# # update the variables\n",
    "# # Mapping the par dictionary to variables \n",
    "# for k in par:\n",
    "#     locals()[k] = par[k]\n",
    "    \n",
    "# inversion.nt = nt \n",
    "# inversion.dt = dt \n",
    "    \n",
    "# print(wavel_res.shape, data_res.shape)"
   ],
   "outputs": [],
   "metadata": {}
  },
  {
   "cell_type": "code",
   "execution_count": null,
   "source": [
    "# fig, ax = plt.subplots(1,2,figsize=(8,4))\n",
    "\n",
    "# ax[0].imshow(data_f[:,int(ns//2),:],cmap='seismic',vmin=vmin,vmax=-vmin,extent=[0,par['dr']*par['nr'],par['nt']*par['dt'],par['ot']])\n",
    "# ax[0].axis('tight')\n",
    "# ax[0].set_xlabel('Offset (Km)',weight='heavy')\n",
    "# ax[0].set_ylabel('Time (s)',weight='heavy')\n",
    "# ax[1].imshow(data_res[:,int(ns//2),:],cmap='seismic',vmin=vmin,vmax=-vmin,extent=[0,par['dr']*par['nr'],par['nt']*par['dt'],par['ot']])\n",
    "# ax[1].axis('tight')\n",
    "# ax[1].set_xlabel('Offset (Km)',weight='heavy')\n",
    "# ax[1].set_ylabel('Time (s)',weight='heavy')\n",
    "\n",
    "\n",
    "# fig, ax = plt.subplots(1,2,figsize=(13,1))\n",
    "# ax[0].plot(wavel_f[:,0,0])\n",
    "# ax[1].plot(wavel_res[:,0,0])\n",
    "\n",
    "\n"
   ],
   "outputs": [],
   "metadata": {}
  },
  {
   "cell_type": "code",
   "execution_count": null,
   "source": [
    "# ================ Plotting =============== # \n",
    "# Plot the true models and initial     \n",
    "print(mtrue.shape)\n",
    "Plot_model(mtrue,par)\n",
    "\n",
    "print(data.shape)\n",
    "plt.figure(figsize=(5,10))\n",
    "vmin, vmax = np.percentile(data[:,0], [2,98])\n",
    "plt.imshow(data_f[:,ns//2,:],cmap='seismic',vmin=vmin,vmax=-vmin,extent=[0,par['dr']*par['nr'],par['nt']*par['dt'],par['ot']])\n",
    "plt.axis('tight')\n",
    "plt.xlabel('Offset (Km)',weight='heavy')\n",
    "plt.ylabel('Time (s)',weight='heavy')\n",
    "plt.gca().axes.get_xaxis().set_label_position('top')\n",
    "plt.gca().axes.get_xaxis().tick_top()\n",
    "\n",
    "\n"
   ],
   "outputs": [],
   "metadata": {}
  },
  {
   "cell_type": "code",
   "execution_count": null,
   "source": [
    "# ========================= Cretae initial model =================== # \n",
    "# mask \n",
    "msk = mask(mtrue.numpy(),1.5)\n",
    "\n",
    "bp_mean = np.nanmean(mtrue,axis=1)\n",
    "bp_mean = bp_mean.reshape(-1,1)\n",
    "\n",
    "# minit = gaussian_filter(mtrue,sigma=10)\n",
    "\n",
    "\n",
    "# minit = np.load(velocity_path+'BPfull_1stinv_TV0.01_offs6_DomFreq10_MinFreq3_MaxFre7_fwi1_smth10-15_nt2500-1Dtemp.npy')\n",
    "# minit=minit[200]\n",
    "\n",
    "\n",
    "minit =  np.repeat(bp_mean,nx,axis=1)\n",
    "minit = minit * msk\n",
    "minit[minit==0] = 1.5\n",
    "\n",
    "\n",
    "## constant init \n",
    "minit = msk.copy()\n",
    "minit = minit.astype(np.float32())\n",
    "for ix in range (nx):\n",
    "    iz = np.where(minit[:,ix] > 0)[0][0]\n",
    "    minit[iz:,ix]  = mtrue[iz,ix]\n",
    "minit [minit == 0] = 1.5\n",
    "\n",
    "\n",
    "# minit = './velocity/BPfull_1stinv_TV0_offs6_DomFreq10_MinFreq3_MaxFre7_fwi1_smth10-15temp.npy'\n",
    "# minit = np.load(minit)[-1]\n",
    "\n",
    "Plot_model(minit,par)"
   ],
   "outputs": [],
   "metadata": {}
  },
  {
   "cell_type": "code",
   "execution_count": null,
   "source": [],
   "outputs": [],
   "metadata": {}
  },
  {
   "cell_type": "code",
   "execution_count": null,
   "source": [
    "\n",
    "# Convert to torch\n",
    "minit = torch.tensor(minit,dtype=torch.float32)\n",
    "data_f = torch.tensor(data_f,dtype=torch.float32)\n",
    "\n",
    "wavel_f = torch.tensor(wavel_f,dtype=torch.float32)\n"
   ],
   "outputs": [],
   "metadata": {}
  },
  {
   "cell_type": "code",
   "execution_count": null,
   "source": [
    "plt.imshow(data_f[:,20,:],vmin=-1e-7,vmax=1e-7,cmap='gray')\n",
    "plt.colorbar()\n",
    "plt.axis('tight')"
   ],
   "outputs": [],
   "metadata": {}
  },
  {
   "cell_type": "code",
   "execution_count": null,
   "source": [
    "# ======================= Saving data and wavelet ============================= #\n",
    "# # %%\n",
    "# data_save = data.clone().permute(1,2,0).numpy()\n",
    "# save_3ddata(data_save,par,'./data_mod.rsf')\n",
    "# save_1drsf(wavel.clone().numpy(),par,'./wavl.rsf')"
   ],
   "outputs": [],
   "metadata": {}
  },
  {
   "cell_type": "code",
   "execution_count": null,
   "source": [],
   "outputs": [],
   "metadata": {}
  },
  {
   "cell_type": "code",
   "execution_count": null,
   "source": [
    "\n",
    "\n",
    "minv,loss = inversion.run_inversion(minit,data_f,wavel_f.repeat(1,ns,1),\n",
    "            msk,FWI_itr,device,smth_flag=True,smth=[smth1,smth2],vmin=1.5,vmax=4.5,\n",
    "            tv_flag=TV_FLAG,alphatv=TV_ALPHA,plot_flag=True,Method=\"\")"
   ],
   "outputs": [],
   "metadata": {}
  },
  {
   "cell_type": "code",
   "execution_count": null,
   "source": [],
   "outputs": [],
   "metadata": {}
  },
  {
   "cell_type": "code",
   "execution_count": null,
   "source": [
    "plt.figure(figsize=(10,3))\n",
    "plt.imshow(minv[0,]-minit.numpy(),cmap='seismic'\n",
    "          ,extent=[par['ox'],par['dx']*par['nx'],par['nz']*par['dz'],par['oz']])\n",
    "plt.colorbar()\n",
    "plt.scatter(inversion.r_cor[:,:,1],inversion.r_cor[:,:,0],marker='.',s=0.3,c='r')\n",
    "plt.scatter(inversion.s_cor[:,:,1],inversion.s_cor[:,:,0],marker='x',s=50,c='b')\n",
    "plt.axis('tight')\n",
    "\n",
    "\n",
    "\n",
    "plt.figure()\n",
    "plt.plot(minv[0,:,800]-minit.numpy()[:,800])\n"
   ],
   "outputs": [],
   "metadata": {}
  },
  {
   "cell_type": "code",
   "execution_count": null,
   "source": [],
   "outputs": [],
   "metadata": {}
  },
  {
   "cell_type": "code",
   "execution_count": null,
   "source": [
    "plt.plot(loss)\n",
    "plt.savefig('loss')"
   ],
   "outputs": [],
   "metadata": {}
  },
  {
   "cell_type": "code",
   "execution_count": null,
   "source": [
    "Plot_model(minv[-1,],par,vmin=1.5,vmax=3)\n",
    "# Plot_model(minv[-1,],par)\n",
    "plt.plot(minv[-1,:,1000])\n",
    "plt.plot(mtrue[:,1000])\n"
   ],
   "outputs": [],
   "metadata": {}
  },
  {
   "cell_type": "code",
   "execution_count": null,
   "source": [
    "# save_2drsf(minv[-1,].T,par,output_file)\n",
    "# np.save(output_file,(minv))"
   ],
   "outputs": [],
   "metadata": {
    "scrolled": true
   }
  },
  {
   "cell_type": "code",
   "execution_count": null,
   "source": [
    "minit2  =minv[-1,].copy()"
   ],
   "outputs": [],
   "metadata": {}
  },
  {
   "cell_type": "code",
   "execution_count": null,
   "source": [],
   "outputs": [],
   "metadata": {}
  },
  {
   "cell_type": "code",
   "execution_count": null,
   "source": [],
   "outputs": [],
   "metadata": {}
  },
  {
   "cell_type": "code",
   "execution_count": null,
   "source": [],
   "outputs": [],
   "metadata": {}
  },
  {
   "cell_type": "code",
   "execution_count": null,
   "source": [],
   "outputs": [],
   "metadata": {}
  },
  {
   "cell_type": "code",
   "execution_count": null,
   "source": [],
   "outputs": [],
   "metadata": {}
  },
  {
   "cell_type": "code",
   "execution_count": null,
   "source": [],
   "outputs": [],
   "metadata": {}
  },
  {
   "cell_type": "code",
   "execution_count": null,
   "source": [],
   "outputs": [],
   "metadata": {}
  }
 ],
 "metadata": {
  "interpreter": {
   "hash": "dcea05d95f5a5a2c52102d54be3d69ca1e4d72d81e0dd76681491d4ec5f910d5"
  },
  "kernelspec": {
   "name": "python3",
   "display_name": "Python 3.9.7 64-bit ('salt_unflooding': conda)"
  },
  "language_info": {
   "codemirror_mode": {
    "name": "ipython",
    "version": 3
   },
   "file_extension": ".py",
   "mimetype": "text/x-python",
   "name": "python",
   "nbconvert_exporter": "python",
   "pygments_lexer": "ipython3",
   "version": "3.9.7"
  }
 },
 "nbformat": 4,
 "nbformat_minor": 4
}